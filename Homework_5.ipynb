{
  "nbformat": 4,
  "nbformat_minor": 0,
  "metadata": {
    "colab": {
      "provenance": [],
      "authorship_tag": "ABX9TyPId7JVVIwozGY0cJkJiNqI",
      "include_colab_link": true
    },
    "kernelspec": {
      "name": "python3",
      "display_name": "Python 3"
    },
    "language_info": {
      "name": "python"
    }
  },
  "cells": [
    {
      "cell_type": "markdown",
      "metadata": {
        "id": "view-in-github",
        "colab_type": "text"
      },
      "source": [
        "<a href=\"https://colab.research.google.com/github/rosebcano/STAT-Homework-Uploads/blob/main/Homework_5.ipynb\" target=\"_parent\"><img src=\"https://colab.research.google.com/assets/colab-badge.svg\" alt=\"Open In Colab\"/></a>"
      ]
    },
    {
      "cell_type": "markdown",
      "source": [
        "**Question 1**"
      ],
      "metadata": {
        "id": "Poc_oL_BWyYr"
      }
    },
    {
      "cell_type": "code",
      "execution_count": 16,
      "metadata": {
        "id": "NcvOwXXwQChH"
      },
      "outputs": [],
      "source": [
        "class Human:\n",
        "  emotion = 'happy'\n",
        "  insinct = 'social'\n",
        "  communication = 'verbal language'\n",
        "  quality = 'smart'\n",
        "\n",
        "  def __init__(self, height, age, trait, hometown):\n",
        "    self.height = height\n",
        "    self.age = age\n",
        "    self.trait = trait\n",
        "    self.hometown = hometown\n",
        "\n",
        "A = Human(5, 18, 'brown', 'Long Beach')\n",
        "B = Human(6, 20, 'brown', 'Lakewood')\n"
      ]
    },
    {
      "cell_type": "markdown",
      "source": [
        "**Question 2**"
      ],
      "metadata": {
        "id": "U55FmyCCWv9G"
      }
    },
    {
      "cell_type": "code",
      "source": [
        "import math\n",
        "\n",
        "class Point:\n",
        "  def __init__(self):\n",
        "    self.x = 0\n",
        "    self.y = 0\n",
        "\n",
        "  def distance(self):\n",
        "    return math.sqrt(self.x**2 + self **2)"
      ],
      "metadata": {
        "id": "wE4KmfblTyKh"
      },
      "execution_count": 19,
      "outputs": []
    },
    {
      "cell_type": "markdown",
      "source": [
        "**Question 3**\n",
        "\n",
        "The answer is:\n",
        "\n",
        "(A) Class B inherits A, but the data field \"i\" in A is not inherited. \n",
        "\n",
        "\n",
        "\n"
      ],
      "metadata": {
        "id": "6GneutbSWuh0"
      }
    },
    {
      "cell_type": "markdown",
      "source": [
        "**Question 4**\n",
        "\n",
        "The output is:\n",
        "\n",
        "helloworld, or it could be hello world if there is a space in the \"\" quotation marks. "
      ],
      "metadata": {
        "id": "zn3mRD-BXDZM"
      }
    },
    {
      "cell_type": "markdown",
      "source": [
        "**Question 5**\n",
        "\n",
        "The incorrect statement is:\n",
        "\n",
        "(C) 'self' is not needed in def namePrint(self):"
      ],
      "metadata": {
        "id": "KVrIWpPIX_6u"
      }
    },
    {
      "cell_type": "markdown",
      "source": [
        "**Question 6**\n",
        "\n",
        "The output is a TypeError\n",
        "\n",
        "TypeError: Only integers are allowed"
      ],
      "metadata": {
        "id": "3gg4GHxTYDfB"
      }
    }
  ]
}