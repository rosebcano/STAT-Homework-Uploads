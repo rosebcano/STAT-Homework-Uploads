{
 "cells": [
  {
   "cell_type": "code",
   "execution_count": 60,
   "id": "12bf9ce3",
   "metadata": {},
   "outputs": [],
   "source": [
    "import pandas as pd"
   ]
  },
  {
   "cell_type": "code",
   "execution_count": 61,
   "id": "1ffe43a3",
   "metadata": {},
   "outputs": [],
   "source": [
    "data = pd.read_csv(\"numbers.txt\")"
   ]
  },
  {
   "cell_type": "code",
   "execution_count": 62,
   "id": "a325d442",
   "metadata": {},
   "outputs": [],
   "source": [
    "with open('numbers.txt', 'r') as f:\n",
    "    data = f.read()"
   ]
  },
  {
   "cell_type": "code",
   "execution_count": 63,
   "id": "af22f004",
   "metadata": {},
   "outputs": [
    {
     "name": "stdout",
     "output_type": "stream",
     "text": [
      "2,4,6,8,4,5,2,1,9,0,4,6,7,4,3,2,1,9,10,3,7,9,6,0,1,3,5,6,7,8,9,10,2,3,6,8,9,10,6,7,4,3\n",
      "2,1,9,10,3,7,9,6,0,1,3,5,6,7,8,9,10,2,3,6,8,9,10,2,4,6,8,4,5,2,1,9,0,4,6,7,4,3,2,1,9,10,3,7,9,6\n",
      "4,5,2,1,9,0,4,6,7,4,3,2,1,9,10,3,7,9,6,0,1,3,5,6,7,8,9,10,2,3,6,8,9,10,6,7,4,3,6,8,4,5,2\n",
      "10,3,7,9,6,0,1,3,5,6,7,8,9,10,2,3,6,8,9,10,2,4,6,8,4,5,2,1,9,0,4,6,7,4\n",
      "2,4,6,8,4,5,2,1,9,0,4,6,7,4,3,2,1,9,10,3,7,9,6\n"
     ]
    }
   ],
   "source": [
    "print(data)"
   ]
  },
  {
   "cell_type": "code",
   "execution_count": 64,
   "id": "d5e5017c",
   "metadata": {},
   "outputs": [
    {
     "name": "stdout",
     "output_type": "stream",
     "text": [
      "2: 19\n",
      "4: 22\n",
      "6: 26\n",
      "8: 13\n",
      "5: 10\n",
      "1: 14\n",
      "9: 24\n",
      "0: 9\n",
      "7: 17\n",
      "3: 20\n",
      "10: 14\n"
     ]
    }
   ],
   "source": [
    "from collections import Counter\n",
    "\n",
    "data = [\n",
    "    2,4,6,8,4,5,2,1,9,0,4,6,7,4,3,2,1,9,10,3,7,9,6,0,1,3,5,6,7,8,9,10,2,3,6,8,9,10,6,7,4,3,\n",
    "    2,1,9,10,3,7,9,6,0,1,3,5,6,7,8,9,10,2,3,6,8,9,10,2,4,6,8,4,5,2,1,9,0,4,6,7,4,3,2,1,9,10,3,7,9,6,\n",
    "    4,5,2,1,9,0,4,6,7,4,3,2,1,9,10,3,7,9,6,0,1,3,5,6,7,8,9,10,2,3,6,8,9,10,6,7,4,3,6,8,4,5,2,\n",
    "    10,3,7,9,6,0,1,3,5,6,7,8,9,10,2,3,6,8,9,10,2,4,6,8,4,5,2,1,9,0,4,6,7,4,2,4,6,8,4,5,2,1,9,0,4,6,7,4,3,2,1,9,10,3,7,9,6\n",
    "]\n",
    "\n",
    "freq = Counter(data)\n",
    "\n",
    "for num, count in freq.items():\n",
    "    print(f\"{num}: {count}\")\n"
   ]
  },
  {
   "cell_type": "code",
   "execution_count": 65,
   "id": "ae68e41b",
   "metadata": {},
   "outputs": [
    {
     "data": {
      "image/png": "[encoded data removed]",
      "text/plain": [
       "<Figure size 640x480 with 1 Axes>"
      ]
     },
     "metadata": {},
     "output_type": "display_data"
    }
   ],
   "source": [
    "import matplotlib.pyplot as plt\n",
    "\n",
    "# Frequencies of the numbers\n",
    "frequencies = [8, 10, 7, 6, 5, 4, 6, 6, 7, 4, 6]\n",
    "\n",
    "# Numbers\n",
    "numbers = [0, 1, 2, 3, 4, 5, 6, 7, 8, 9, 10]\n",
    "\n",
    "plt.bar(numbers, frequencies)\n",
    "\n",
    "plt.xlabel('Numbers')\n",
    "plt.ylabel('Frequency')\n",
    "plt.title('Histogram of Data')\n",
    "\n",
    "plt.show()\n"
   ]
  },
  {
   "cell_type": "code",
   "execution_count": 66,
   "id": "4ac6496f",
   "metadata": {},
   "outputs": [],
   "source": [
    "import json\n",
    "\n",
    "results = {\n",
    "    2: 19,\n",
    "    4: 22,\n",
    "    6: 26,\n",
    "    8: 13,\n",
    "    5: 10,\n",
    "    1: 14,\n",
    "    9: 24,\n",
    "    0: 9,\n",
    "    7: 17,\n",
    "    3: 20,\n",
    "    10: 14\n",
    "}\n",
    "\n",
    "with open(\"midtermresults.json\", \"w\") as f:\n",
    "    json.dump(results, f)\n",
    "\n"
   ]
  },
  {
   "cell_type": "code",
   "execution_count": 67,
   "id": "7f3d664d",
   "metadata": {},
   "outputs": [],
   "source": [
    "import pandas as pd"
   ]
  },
  {
   "cell_type": "code",
   "execution_count": 68,
   "id": "5c784e26",
   "metadata": {},
   "outputs": [],
   "source": [
    "df = pd.read_csv(\"netflix.csv\")"
   ]
  },
  {
   "cell_type": "code",
   "execution_count": 69,
   "id": "b8380176",
   "metadata": {
    "scrolled": true
   },
   "outputs": [
    {
     "name": "stdout",
     "output_type": "stream",
     "text": [
      "<class 'pandas.core.frame.DataFrame'>\n",
      "RangeIndex: 2729 entries, 0 to 2728\n",
      "Data columns (total 21 columns):\n",
      " #   Column        Non-Null Count  Dtype  \n",
      "---  ------        --------------  -----  \n",
      " 0   Name          2728 non-null   object \n",
      " 1   Year          2704 non-null   float64\n",
      " 2   Age Rating    2704 non-null   object \n",
      " 3   Duration      2728 non-null   object \n",
      " 4   Category      2727 non-null   object \n",
      " 5                 0 non-null      float64\n",
      " 6   Unnamed: 6    0 non-null      float64\n",
      " 7   Unnamed: 7    0 non-null      float64\n",
      " 8   Unnamed: 8    144 non-null    object \n",
      " 9   Age Rating.1  66 non-null     object \n",
      " 10  Values        65 non-null     object \n",
      " 11  Unnamed: 11   76 non-null     object \n",
      " 12  Unnamed: 12   75 non-null     object \n",
      " 13  Unnamed: 13   50 non-null     object \n",
      " 14  Unnamed: 14   49 non-null     object \n",
      " 15  Unnamed: 15   47 non-null     object \n",
      " 16  Unnamed: 16   46 non-null     object \n",
      " 17  Unnamed: 17   33 non-null     object \n",
      " 18  Unnamed: 18   32 non-null     object \n",
      " 19  Unnamed: 19   144 non-null    object \n",
      " 20  Unnamed: 20   144 non-null    object \n",
      "dtypes: float64(4), object(17)\n",
      "memory usage: 447.9+ KB\n"
     ]
    },
    {
     "data": {
      "text/html": [
       "<div>\n",
       "<style scoped>\n",
       "    .dataframe tbody tr th:only-of-type {\n",
       "        vertical-align: middle;\n",
       "    }\n",
       "\n",
       "    .dataframe tbody tr th {\n",
       "        vertical-align: top;\n",
       "    }\n",
       "\n",
       "    .dataframe thead th {\n",
       "        text-align: right;\n",
       "    }\n",
       "</style>\n",
       "<table border=\"1\" class=\"dataframe\">\n",
       "  <thead>\n",
       "    <tr style=\"text-align: right;\">\n",
       "      <th></th>\n",
       "      <th>Year</th>\n",
       "      <th></th>\n",
       "      <th>Unnamed: 6</th>\n",
       "      <th>Unnamed: 7</th>\n",
       "    </tr>\n",
       "  </thead>\n",
       "  <tbody>\n",
       "    <tr>\n",
       "      <th>count</th>\n",
       "      <td>2704.000000</td>\n",
       "      <td>0.0</td>\n",
       "      <td>0.0</td>\n",
       "      <td>0.0</td>\n",
       "    </tr>\n",
       "    <tr>\n",
       "      <th>mean</th>\n",
       "      <td>2014.891642</td>\n",
       "      <td>NaN</td>\n",
       "      <td>NaN</td>\n",
       "      <td>NaN</td>\n",
       "    </tr>\n",
       "    <tr>\n",
       "      <th>std</th>\n",
       "      <td>8.332022</td>\n",
       "      <td>NaN</td>\n",
       "      <td>NaN</td>\n",
       "      <td>NaN</td>\n",
       "    </tr>\n",
       "    <tr>\n",
       "      <th>min</th>\n",
       "      <td>1954.000000</td>\n",
       "      <td>NaN</td>\n",
       "      <td>NaN</td>\n",
       "      <td>NaN</td>\n",
       "    </tr>\n",
       "    <tr>\n",
       "      <th>25%</th>\n",
       "      <td>2012.000000</td>\n",
       "      <td>NaN</td>\n",
       "      <td>NaN</td>\n",
       "      <td>NaN</td>\n",
       "    </tr>\n",
       "    <tr>\n",
       "      <th>50%</th>\n",
       "      <td>2018.000000</td>\n",
       "      <td>NaN</td>\n",
       "      <td>NaN</td>\n",
       "      <td>NaN</td>\n",
       "    </tr>\n",
       "    <tr>\n",
       "      <th>75%</th>\n",
       "      <td>2020.000000</td>\n",
       "      <td>NaN</td>\n",
       "      <td>NaN</td>\n",
       "      <td>NaN</td>\n",
       "    </tr>\n",
       "    <tr>\n",
       "      <th>max</th>\n",
       "      <td>2022.000000</td>\n",
       "      <td>NaN</td>\n",
       "      <td>NaN</td>\n",
       "      <td>NaN</td>\n",
       "    </tr>\n",
       "  </tbody>\n",
       "</table>\n",
       "</div>"
      ],
      "text/plain": [
       "              Year       Unnamed: 6  Unnamed: 7\n",
       "count  2704.000000  0.0         0.0         0.0\n",
       "mean   2014.891642  NaN         NaN         NaN\n",
       "std       8.332022  NaN         NaN         NaN\n",
       "min    1954.000000  NaN         NaN         NaN\n",
       "25%    2012.000000  NaN         NaN         NaN\n",
       "50%    2018.000000  NaN         NaN         NaN\n",
       "75%    2020.000000  NaN         NaN         NaN\n",
       "max    2022.000000  NaN         NaN         NaN"
      ]
     },
     "execution_count": 69,
     "metadata": {},
     "output_type": "execute_result"
    }
   ],
   "source": [
    "df.head() #first five rows\n",
    "df.info() \n",
    "df.describe()  #stats summary\n"
   ]
  },
  {
   "cell_type": "code",
   "execution_count": 73,
   "id": "ad4e68ef",
   "metadata": {},
   "outputs": [
    {
     "data": {
      "image/png": "[encoded data removed]",
      "text/plain": [
       "<Figure size 640x480 with 1 Axes>"
      ]
     },
     "metadata": {},
     "output_type": "display_data"
    }
   ],
   "source": [
    "import pandas as pd\n",
    "import matplotlib.pyplot as plt\n",
    "\n",
    "df = pd.read_csv('netflix.csv')\n",
    "\n",
    "column_to_plot = 'Year'\n",
    "\n",
    "#To make the histogram\n",
    "plt.hist(df[column_to_plot], bins=21)\n",
    "\n",
    "plt.xlabel(column_to_plot)\n",
    "plt.ylabel('Frequency')\n",
    "plt.title('Histogram of ' + column_to_plot)\n",
    "\n",
    "plt.show()\n",
    "\n",
    "\n"
   ]
  },
  {
   "cell_type": "code",
   "execution_count": 71,
   "id": "3a84af51",
   "metadata": {},
   "outputs": [
    {
     "name": "stdout",
     "output_type": "stream",
     "text": [
      "                     Name    Year Age Rating Duration              Category  \\\n",
      "0           The Sea Beast  2022.0         7+   1h 59m  Kids & Family Movies   \n",
      "1      Sonic the Hedgehog  2020.0         7+   1h 41m  Kids & Family Movies   \n",
      "2           Tom and Jerry  2021.0         7+   1h 41m  Kids & Family Movies   \n",
      "3        We Can Be Heroes  2020.0         7+   1h 40m  Kids & Family Movies   \n",
      "4  STAND BY ME Doraemon 2  2020.0         7+   1h 37m  Kids & Family Movies   \n",
      "\n",
      "       Unnamed: 6  Unnamed: 7 Unnamed: 8       Age Rating.1  ...  \\\n",
      "0 NaN         NaN         NaN        NaN                 7+  ...   \n",
      "1 NaN         NaN         NaN   Duration  Count of Duration  ...   \n",
      "2 NaN         NaN         NaN     1h 30m                  7  ...   \n",
      "3 NaN         NaN         NaN     1h 46m                  7  ...   \n",
      "4 NaN         NaN         NaN     1h 59m                  4  ...   \n",
      "\n",
      "         Unnamed: 11  Unnamed: 12        Unnamed: 13  Unnamed: 14  \\\n",
      "0                13+          NaN                18+          NaN   \n",
      "1  Count of Duration  Sum of Year  Count of Duration  Sum of Year   \n",
      "2                  4         8076                  2         4040   \n",
      "3                  2         4043                NaN          NaN   \n",
      "4                  5        10092                  1         2016   \n",
      "\n",
      "         Unnamed: 15  Unnamed: 16        Unnamed: 17  Unnamed: 18  \\\n",
      "0                16+          NaN                All          NaN   \n",
      "1  Count of Duration  Sum of Year  Count of Duration  Sum of Year   \n",
      "2                NaN          NaN                NaN          NaN   \n",
      "3                  3         6054                NaN          NaN   \n",
      "4                  2         4032                NaN          NaN   \n",
      "\n",
      "               Unnamed: 19        Unnamed: 20  \n",
      "0  Total Count of Duration  Total Sum of Year  \n",
      "1                      NaN                NaN  \n",
      "2                       13              26211  \n",
      "3                       12              24236  \n",
      "4                       12              24177  \n",
      "\n",
      "[5 rows x 21 columns]\n"
     ]
    }
   ],
   "source": [
    "import pandas as pd\n",
    "\n",
    "# Read the CSV file\n",
    "df = pd.read_csv('netflix.csv')\n",
    "\n",
    "# the first five rows of the dataframe\n",
    "print(df.head())\n"
   ]
  },
  {
   "cell_type": "code",
   "execution_count": 72,
   "id": "7fcbaac0",
   "metadata": {},
   "outputs": [],
   "source": [
    "import csv\n",
    "\n",
    "with open('netflix.csv', 'r') as infile, open('formatted.csv', 'w', newline='') as outfile:\n",
    "    reader = csv.reader(infile, delimiter=',')\n",
    "    writer = csv.writer(outfile, delimiter='\\t')\n",
    "\n",
    "    \n",
    "    for row in reader:\n",
    "        writer.writerow([f'{col:<21}' for col in row])\n"
   ]
  },
  {
   "cell_type": "code",
   "execution_count": null,
   "id": "8a97072d",
   "metadata": {},
   "outputs": [],
   "source": []
  },
  {
   "cell_type": "code",
   "execution_count": null,
   "id": "5390febf",
   "metadata": {},
   "outputs": [],
   "source": []
  }
 ],
 "metadata": {
  "kernelspec": {
   "display_name": "Python 3 (ipykernel)",
   "language": "python",
   "name": "python3"
  },
  "language_info": {
   "codemirror_mode": {
    "name": "ipython",
    "version": 3
   },
   "file_extension": ".py",
   "mimetype": "text/x-python",
   "name": "python",
   "nbconvert_exporter": "python",
   "pygments_lexer": "ipython3",
   "version": "3.9.13"
  }
 },
 "nbformat": 4,
 "nbformat_minor": 5
}
