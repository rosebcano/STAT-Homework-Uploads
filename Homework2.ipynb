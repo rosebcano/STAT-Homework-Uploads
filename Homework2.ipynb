{
  "nbformat": 4,
  "nbformat_minor": 0,
  "metadata": {
    "colab": {
      "provenance": [],
      "authorship_tag": "ABX9TyN0kTsHpe1XwDUqgfo4vSyW",
      "include_colab_link": true
    },
    "kernelspec": {
      "name": "python3",
      "display_name": "Python 3"
    },
    "language_info": {
      "name": "python"
    }
  },
  "cells": [
    {
      "cell_type": "markdown",
      "metadata": {
        "id": "view-in-github",
        "colab_type": "text"
      },
      "source": [
        "<a href=\"https://colab.research.google.com/github/rosebcano/STAT-Homework-Uploads/blob/main/Homework2.ipynb\" target=\"_parent\"><img src=\"https://colab.research.google.com/assets/colab-badge.svg\" alt=\"Open In Colab\"/></a>"
      ]
    },
    {
      "cell_type": "code",
      "execution_count": 18,
      "metadata": {
        "colab": {
          "base_uri": "https://localhost:8080/"
        },
        "id": "_qhPoSGCyyP7",
        "outputId": "16fcc9bb-41da-4eb0-b9c4-888b0b98ef03"
      },
      "outputs": [
        {
          "output_type": "stream",
          "name": "stdout",
          "text": [
            "0\n",
            "1\n",
            "2\n",
            "3\n",
            "4\n"
          ]
        }
      ],
      "source": [
        "n = 0\n",
        "while n < 10:\n",
        "  print(n)\n",
        "  if n>=4:\n",
        "    break\n",
        "  n += 1\n"
      ]
    },
    {
      "cell_type": "code",
      "source": [
        "n=0\n",
        "while n<5:\n",
        "  print(n)\n",
        "  n += 1\n",
        "else:\n",
        "  print(\"5 is not less than 5\")"
      ],
      "metadata": {
        "colab": {
          "base_uri": "https://localhost:8080/"
        },
        "id": "48Ugvfle5UJb",
        "outputId": "75b2d49d-1d0f-403f-ab93-445f96ec6ff7"
      },
      "execution_count": 22,
      "outputs": [
        {
          "output_type": "stream",
          "name": "stdout",
          "text": [
            "0\n",
            "1\n",
            "2\n",
            "3\n",
            "4\n",
            "5 is not less than 5\n"
          ]
        }
      ]
    },
    {
      "cell_type": "code",
      "source": [
        "fruits = {\"banana\", \"orange\", \"grape\", \"apple\"}\n",
        "for fruit in fruits:\n",
        "  print(\"i like\", fruit)\n",
        "else:\n",
        "  print(\"apple is really fruit?\")\n",
        "\n"
      ],
      "metadata": {
        "colab": {
          "base_uri": "https://localhost:8080/"
        },
        "id": "nOo8zx298dmK",
        "outputId": "32ce77c7-52a3-455e-9e20-87b7ecf37f45"
      },
      "execution_count": 32,
      "outputs": [
        {
          "output_type": "stream",
          "name": "stdout",
          "text": [
            "i like banana\n",
            "i like apple\n",
            "i like grape\n",
            "i like orange\n",
            "apple is really fruit?\n"
          ]
        }
      ]
    },
    {
      "cell_type": "code",
      "source": [
        "#make a list from 1 - 30\n",
        "list = [*range(1,31,1)]\n",
        "print(list)"
      ],
      "metadata": {
        "colab": {
          "base_uri": "https://localhost:8080/"
        },
        "id": "Cc256eOPLDY8",
        "outputId": "9799be4c-f910-46b1-f3fb-fbd5d9194e58"
      },
      "execution_count": 46,
      "outputs": [
        {
          "output_type": "stream",
          "name": "stdout",
          "text": [
            "[1, 2, 3, 4, 5, 6, 7, 8, 9, 10, 11, 12, 13, 14, 15, 16, 17, 18, 19, 20, 21, 22, 23, 24, 25, 26, 27, 28, 29, 30]\n"
          ]
        }
      ]
    },
    {
      "cell_type": "code",
      "source": [
        "def sum_of_list(l):\n",
        "  total=0\n",
        "  for val in l:\n",
        "    total = total + val\n",
        "  return total\n",
        "\n",
        "list = [*range(1, 31, 1)]\n",
        "print(sum_of_list(list))"
      ],
      "metadata": {
        "colab": {
          "base_uri": "https://localhost:8080/"
        },
        "id": "KLIuHhrmT78S",
        "outputId": "ac97e23a-8f6f-4ea3-fcd3-380a281a8914"
      },
      "execution_count": 52,
      "outputs": [
        {
          "output_type": "stream",
          "name": "stdout",
          "text": [
            "465\n"
          ]
        }
      ]
    },
    {
      "cell_type": "code",
      "source": [
        "grade = 55"
      ],
      "metadata": {
        "id": "b7_nsO9XYtGn"
      },
      "execution_count": 57,
      "outputs": []
    },
    {
      "cell_type": "code",
      "source": [
        "if grade >=90:\n",
        "  print(\"A\")\n",
        "elif grade >=80:\n",
        "  print(\"B\")\n",
        "elif grade >=70:\n",
        "  print(\"C\")\n",
        "elif grade >60:\n",
        "  print(\"D\")\n",
        "else:\n",
        "  print(\"F\")"
      ],
      "metadata": {
        "colab": {
          "base_uri": "https://localhost:8080/"
        },
        "id": "Pw5Q-GMyWGYs",
        "outputId": "8e069c61-bdcd-4698-857d-970fe7ef9ec8"
      },
      "execution_count": 58,
      "outputs": [
        {
          "output_type": "stream",
          "name": "stdout",
          "text": [
            "F\n"
          ]
        }
      ]
    },
    {
      "cell_type": "code",
      "source": [
        "marks = {'Andy':88, 'Amy':66, 'James':90, 'Jules':55, 'Arthur':77}"
      ],
      "metadata": {
        "id": "RHysBeN0NVe1"
      },
      "execution_count": 2,
      "outputs": []
    },
    {
      "cell_type": "code",
      "source": [
        "for student in marks:\n",
        "  print(student, \"has a grade of\", marks[student])"
      ],
      "metadata": {
        "colab": {
          "base_uri": "https://localhost:8080/"
        },
        "id": "Abw-eklwOZSP",
        "outputId": "0f21d1af-239f-421b-941b-6a64e068f43a"
      },
      "execution_count": 3,
      "outputs": [
        {
          "output_type": "stream",
          "name": "stdout",
          "text": [
            "Andy has a grade of 88\n",
            "Amy has a grade of 66\n",
            "James has a grade of 90\n",
            "Jules has a grade of 55\n",
            "Arthur has a grade of 77\n"
          ]
        }
      ]
    },
    {
      "cell_type": "code",
      "source": [
        "grades = marks.values()\n",
        "mean =sum(grades)/len(grades)\n",
        "print(\"Mean equals\", mean)\n",
        "print(\"Max equals\", max(grades))\n",
        "print(\"Min equals\", min(grades))"
      ],
      "metadata": {
        "colab": {
          "base_uri": "https://localhost:8080/"
        },
        "id": "wXrNc1tMY2bI",
        "outputId": "786e7775-df24-4c01-9d3a-0a515431f9a2"
      },
      "execution_count": 4,
      "outputs": [
        {
          "output_type": "stream",
          "name": "stdout",
          "text": [
            "Mean equals 75.2\n",
            "Max equals 90\n",
            "Min equals 55\n"
          ]
        }
      ]
    },
    {
      "cell_type": "code",
      "source": [
        "for student in marks:\n",
        "  if 'J' in student:\n",
        "    break\n",
        "  print(student)"
      ],
      "metadata": {
        "colab": {
          "base_uri": "https://localhost:8080/"
        },
        "id": "GpAapbsZPkcB",
        "outputId": "5f004267-c25f-4fea-9e08-c9a1c702e02b"
      },
      "execution_count": 5,
      "outputs": [
        {
          "output_type": "stream",
          "name": "stdout",
          "text": [
            "Andy\n",
            "Amy\n"
          ]
        }
      ]
    },
    {
      "cell_type": "code",
      "source": [
        "for student in marks:\n",
        "  if 'J' in student:\n",
        "    continue\n",
        "  print(student)"
      ],
      "metadata": {
        "colab": {
          "base_uri": "https://localhost:8080/"
        },
        "id": "a0JFMqjcPxXP",
        "outputId": "15e0bf8d-2de7-4876-97a4-d808c1bc693e"
      },
      "execution_count": 9,
      "outputs": [
        {
          "output_type": "stream",
          "name": "stdout",
          "text": [
            "Andy\n",
            "Amy\n",
            "Arthur\n"
          ]
        }
      ]
    }
  ]
}