{
  "nbformat": 4,
  "nbformat_minor": 0,
  "metadata": {
    "colab": {
      "provenance": [],
      "authorship_tag": "ABX9TyOkjFe8p9cRglzRuP8BjZjg",
      "include_colab_link": true
    },
    "kernelspec": {
      "name": "python3",
      "display_name": "Python 3"
    },
    "language_info": {
      "name": "python"
    }
  },
  "cells": [
    {
      "cell_type": "markdown",
      "metadata": {
        "id": "view-in-github",
        "colab_type": "text"
      },
      "source": [
        "<a href=\"https://colab.research.google.com/github/rosebcano/STAT-Homework-Uploads/blob/main/Homework3.ipynb\" target=\"_parent\"><img src=\"https://colab.research.google.com/assets/colab-badge.svg\" alt=\"Open In Colab\"/></a>"
      ]
    },
    {
      "cell_type": "code",
      "execution_count": 4,
      "metadata": {
        "id": "0f1VL1N-hHAM",
        "colab": {
          "base_uri": "https://localhost:8080/"
        },
        "outputId": "cc3b43f6-5fe0-4d76-d100-86b35f9b5ded"
      },
      "outputs": [
        {
          "output_type": "stream",
          "name": "stdout",
          "text": [
            "0\n",
            "1\n",
            "2\n",
            "3\n",
            "4\n"
          ]
        }
      ],
      "source": [
        "def less_than(num):\n",
        "  for n in range(num):\n",
        "    print(n)\n",
        "\n",
        "less_than(5)"
      ]
    },
    {
      "cell_type": "code",
      "source": [
        "dict = {}\n",
        "student_name = 'Andy'\n",
        "marks = {'Andy': 88, 'Amy': 66, 'James': 90, 'Jules':55, 'Arthur':77}\n",
        "for student in marks:\n",
        "  if student == student_name:\n",
        "    print(marks[student])\n",
        "    break\n",
        "  else:\n",
        "    print('Cannot find this students name')"
      ],
      "metadata": {
        "id": "ACt6bKjjEwBs",
        "colab": {
          "base_uri": "https://localhost:8080/"
        },
        "outputId": "3bfb4a66-977e-4754-ef8e-8a675607f3b6"
      },
      "execution_count": 12,
      "outputs": [
        {
          "output_type": "stream",
          "name": "stdout",
          "text": [
            "88\n"
          ]
        }
      ]
    },
    {
      "cell_type": "code",
      "source": [
        "import statistics as stats\n",
        "   "
      ],
      "metadata": {
        "id": "gAludXV4QD51"
      },
      "execution_count": 15,
      "outputs": []
    },
    {
      "cell_type": "code",
      "source": [
        "grades = [88, 66, 90, 55, 77]"
      ],
      "metadata": {
        "id": "kaq5e_1vOewa"
      },
      "execution_count": 16,
      "outputs": []
    },
    {
      "cell_type": "code",
      "source": [
        "stats.mean(grades)"
      ],
      "metadata": {
        "colab": {
          "base_uri": "https://localhost:8080/"
        },
        "id": "Q-sgv_PNOuo7",
        "outputId": "36fd5a14-a2ae-403d-a43f-19c792c21858"
      },
      "execution_count": 17,
      "outputs": [
        {
          "output_type": "execute_result",
          "data": {
            "text/plain": [
              "75.2"
            ]
          },
          "metadata": {},
          "execution_count": 17
        }
      ]
    },
    {
      "cell_type": "code",
      "source": [
        "def printout(num):\n",
        "  n = 0\n",
        "  while n < num:\n",
        "    print(n)\n",
        "    n ** n\n",
        "  else:\n",
        "    print(\"greater than 8\" , num)\n",
        "\n",
        "  less_greater(8)"
      ],
      "metadata": {
        "id": "ZZRehTl9Ol8e"
      },
      "execution_count": 29,
      "outputs": []
    },
    {
      "cell_type": "code",
      "source": [
        "n = 1\n",
        "sum = 0\n",
        "while n <= 15:\n",
        "  sum = sum + n\n",
        "  n = n + 1\n",
        "print(sum)\n"
      ],
      "metadata": {
        "colab": {
          "base_uri": "https://localhost:8080/"
        },
        "id": "SOT6F-RKQkr8",
        "outputId": "4afe45f4-5c1f-475e-f890-dfa99a2a44ae"
      },
      "execution_count": 35,
      "outputs": [
        {
          "output_type": "stream",
          "name": "stdout",
          "text": [
            "120\n"
          ]
        }
      ]
    },
    {
      "cell_type": "code",
      "source": [
        "def range_sum(num):\n",
        "  sum = 0\n",
        "  for n in range(num):\n",
        "    sum = sum + n\n",
        "  print(sum)\n",
        "\n",
        "range_sum(16)"
      ],
      "metadata": {
        "colab": {
          "base_uri": "https://localhost:8080/"
        },
        "id": "fPxGgbUNOyZ5",
        "outputId": "cf6e23a2-518a-474a-bbaa-05c6e9fabcfc"
      },
      "execution_count": 38,
      "outputs": [
        {
          "output_type": "stream",
          "name": "stdout",
          "text": [
            "120\n"
          ]
        }
      ]
    },
    {
      "cell_type": "code",
      "source": [
        "list = [*range(1,100)]\n",
        "print(list)"
      ],
      "metadata": {
        "colab": {
          "base_uri": "https://localhost:8080/"
        },
        "id": "itU_evTrifce",
        "outputId": "db98aecb-0643-4e3b-cb88-55e49a7b359c"
      },
      "execution_count": 63,
      "outputs": [
        {
          "output_type": "stream",
          "name": "stdout",
          "text": [
            "[1, 2, 3, 4, 5, 6, 7, 8, 9, 10, 11, 12, 13, 14, 15, 16, 17, 18, 19, 20, 21, 22, 23, 24, 25, 26, 27, 28, 29, 30, 31, 32, 33, 34, 35, 36, 37, 38, 39, 40, 41, 42, 43, 44, 45, 46, 47, 48, 49, 50, 51, 52, 53, 54, 55, 56, 57, 58, 59, 60, 61, 62, 63, 64, 65, 66, 67, 68, 69, 70, 71, 72, 73, 74, 75, 76, 77, 78, 79, 80, 81, 82, 83, 84, 85, 86, 87, 88, 89, 90, 91, 92, 93, 94, 95, 96, 97, 98, 99]\n"
          ]
        }
      ]
    },
    {
      "cell_type": "code",
      "source": [
        "print(sum)"
      ],
      "metadata": {
        "colab": {
          "base_uri": "https://localhost:8080/"
        },
        "id": "BWMj2n9GnQFR",
        "outputId": "fc5f074a-e3fb-43d2-d1e5-18aaf0198b29"
      },
      "execution_count": 64,
      "outputs": [
        {
          "output_type": "stream",
          "name": "stdout",
          "text": [
            "120\n"
          ]
        }
      ]
    },
    {
      "cell_type": "code",
      "source": [
        "import statistics"
      ],
      "metadata": {
        "id": "hWGqxRKMiEsB"
      },
      "execution_count": 48,
      "outputs": []
    },
    {
      "cell_type": "code",
      "source": [
        "statistics.pstdev(list)"
      ],
      "metadata": {
        "colab": {
          "base_uri": "https://localhost:8080/"
        },
        "id": "o53pSjX5mZsJ",
        "outputId": "d20458c6-659e-4ff8-9d4b-6b829f0dcff0"
      },
      "execution_count": 49,
      "outputs": [
        {
          "output_type": "execute_result",
          "data": {
            "text/plain": [
              "28.577380332470412"
            ]
          },
          "metadata": {},
          "execution_count": 49
        }
      ]
    },
    {
      "cell_type": "code",
      "source": [
        "statistics.mean(list)"
      ],
      "metadata": {
        "colab": {
          "base_uri": "https://localhost:8080/"
        },
        "id": "Hj9zJ34-Mk_I",
        "outputId": "73a15dc9-e0cf-4a35-a97f-41464b8c91f5"
      },
      "execution_count": 50,
      "outputs": [
        {
          "output_type": "execute_result",
          "data": {
            "text/plain": [
              "50"
            ]
          },
          "metadata": {},
          "execution_count": 50
        }
      ]
    },
    {
      "cell_type": "code",
      "source": [
        "def minimal(v1, v2, v3, v4):\n",
        "  min = v3\n",
        "  if v1<min:\n",
        "    min = v1\n",
        "  elif v2< min:\n",
        "    min = v2\n",
        "  elif v4 < min:\n",
        "    min = v4\n",
        "  return min"
      ],
      "metadata": {
        "id": "Zw8IiuTGpIko"
      },
      "execution_count": 65,
      "outputs": []
    },
    {
      "cell_type": "code",
      "source": [
        "minimal(-3, 9, 0, 14)"
      ],
      "metadata": {
        "colab": {
          "base_uri": "https://localhost:8080/"
        },
        "id": "554nYI__sB5h",
        "outputId": "fdfdaafd-c787-4e3f-ae83-06a8e4c2b78f"
      },
      "execution_count": 69,
      "outputs": [
        {
          "output_type": "execute_result",
          "data": {
            "text/plain": [
              "-3"
            ]
          },
          "metadata": {},
          "execution_count": 69
        }
      ]
    },
    {
      "cell_type": "code",
      "source": [
        "list1 = ['Throw', 'the', 'ball']"
      ],
      "metadata": {
        "id": "pp37NJqCs30R"
      },
      "execution_count": 70,
      "outputs": []
    },
    {
      "cell_type": "code",
      "source": [
        "list2 = ['at', 'him']"
      ],
      "metadata": {
        "id": "yA3ytC88uTE3"
      },
      "execution_count": 71,
      "outputs": []
    },
    {
      "cell_type": "code",
      "source": [
        "concatenated_list = list1 + list2\n",
        "print(concatenated_list)"
      ],
      "metadata": {
        "colab": {
          "base_uri": "https://localhost:8080/"
        },
        "id": "G--rMTwpuXDJ",
        "outputId": "914427b6-751d-4f2b-a9ed-3b65bf0925f0"
      },
      "execution_count": 73,
      "outputs": [
        {
          "output_type": "stream",
          "name": "stdout",
          "text": [
            "['Throw', 'the', 'ball', 'at', 'him']\n"
          ]
        }
      ]
    }
  ]
}