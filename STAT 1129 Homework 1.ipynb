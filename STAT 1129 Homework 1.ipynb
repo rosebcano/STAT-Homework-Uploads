{
 "cells": [
  {
   "cell_type": "code",
   "execution_count": 63,
   "id": "9ff9250c",
   "metadata": {},
   "outputs": [],
   "source": [
    "list = [30, 35, 40, 45, 50, 55, 60]"
   ]
  },
  {
   "cell_type": "code",
   "execution_count": 64,
   "id": "2ab740ea",
   "metadata": {},
   "outputs": [],
   "source": [
    "list.reverse()"
   ]
  },
  {
   "cell_type": "code",
   "execution_count": 65,
   "id": "83f3358a",
   "metadata": {},
   "outputs": [
    {
     "data": {
      "text/plain": [
       "[60, 55, 50, 45, 40, 35, 30]"
      ]
     },
     "execution_count": 65,
     "metadata": {},
     "output_type": "execute_result"
    }
   ],
   "source": [
    "list"
   ]
  },
  {
   "cell_type": "code",
   "execution_count": 66,
   "id": "3aca0755",
   "metadata": {},
   "outputs": [],
   "source": [
    "list = []"
   ]
  },
  {
   "cell_type": "code",
   "execution_count": 67,
   "id": "2bdb983a",
   "metadata": {},
   "outputs": [],
   "source": [
    "list.append(0)"
   ]
  },
  {
   "cell_type": "code",
   "execution_count": 68,
   "id": "8b3a1047",
   "metadata": {},
   "outputs": [],
   "source": [
    "list.append(1)"
   ]
  },
  {
   "cell_type": "code",
   "execution_count": 69,
   "id": "1cefde7b",
   "metadata": {},
   "outputs": [],
   "source": [
    "list.append(2)"
   ]
  },
  {
   "cell_type": "code",
   "execution_count": 70,
   "id": "1b0cf226",
   "metadata": {},
   "outputs": [],
   "source": [
    "list.append(3)"
   ]
  },
  {
   "cell_type": "code",
   "execution_count": 71,
   "id": "b9c3dad0",
   "metadata": {},
   "outputs": [],
   "source": [
    "list.append(4)"
   ]
  },
  {
   "cell_type": "code",
   "execution_count": 72,
   "id": "9258526e",
   "metadata": {},
   "outputs": [],
   "source": [
    "list.append(5)"
   ]
  },
  {
   "cell_type": "code",
   "execution_count": 73,
   "id": "10ed9f36",
   "metadata": {},
   "outputs": [],
   "source": [
    "list.append(6)"
   ]
  },
  {
   "cell_type": "code",
   "execution_count": 74,
   "id": "1c6ba88f",
   "metadata": {},
   "outputs": [],
   "source": [
    "list.append(7)"
   ]
  },
  {
   "cell_type": "code",
   "execution_count": 75,
   "id": "b60a051a",
   "metadata": {},
   "outputs": [],
   "source": [
    "list.append(8)"
   ]
  },
  {
   "cell_type": "code",
   "execution_count": 76,
   "id": "23208b1a",
   "metadata": {},
   "outputs": [],
   "source": [
    "list.append(9)"
   ]
  },
  {
   "cell_type": "code",
   "execution_count": 77,
   "id": "dfe9344e",
   "metadata": {},
   "outputs": [],
   "source": [
    "list.append(10)"
   ]
  },
  {
   "cell_type": "code",
   "execution_count": 78,
   "id": "3246a0db",
   "metadata": {},
   "outputs": [],
   "source": [
    "list.append(11)"
   ]
  },
  {
   "cell_type": "code",
   "execution_count": 79,
   "id": "4052d2e5",
   "metadata": {},
   "outputs": [],
   "source": [
    "list.append(12)"
   ]
  },
  {
   "cell_type": "code",
   "execution_count": 80,
   "id": "593b3141",
   "metadata": {},
   "outputs": [],
   "source": [
    "list.append(13)"
   ]
  },
  {
   "cell_type": "code",
   "execution_count": 81,
   "id": "2594151d",
   "metadata": {},
   "outputs": [],
   "source": [
    "list.append(14)"
   ]
  },
  {
   "cell_type": "code",
   "execution_count": 82,
   "id": "56a60847",
   "metadata": {},
   "outputs": [],
   "source": [
    "list.append(15)"
   ]
  },
  {
   "cell_type": "code",
   "execution_count": 83,
   "id": "9c824d38",
   "metadata": {},
   "outputs": [],
   "source": [
    "list.append(16)"
   ]
  },
  {
   "cell_type": "code",
   "execution_count": 84,
   "id": "8050c74c",
   "metadata": {},
   "outputs": [],
   "source": [
    "list.append(17)"
   ]
  },
  {
   "cell_type": "code",
   "execution_count": 85,
   "id": "d533ae45",
   "metadata": {},
   "outputs": [],
   "source": [
    "list.append(18)"
   ]
  },
  {
   "cell_type": "code",
   "execution_count": 86,
   "id": "2bafd175",
   "metadata": {},
   "outputs": [],
   "source": [
    "list.append(19)"
   ]
  },
  {
   "cell_type": "code",
   "execution_count": 87,
   "id": "f1119678",
   "metadata": {},
   "outputs": [],
   "source": [
    "list.append(20)"
   ]
  },
  {
   "cell_type": "code",
   "execution_count": 88,
   "id": "f4b82250",
   "metadata": {},
   "outputs": [
    {
     "name": "stdout",
     "output_type": "stream",
     "text": [
      "[0, 1, 2, 3, 4, 5, 6, 7, 8, 9, 10, 11, 12, 13, 14, 15, 16, 17, 18, 19, 20]\n"
     ]
    }
   ],
   "source": [
    "print(list)"
   ]
  },
  {
   "cell_type": "code",
   "execution_count": 89,
   "id": "d35b1def",
   "metadata": {},
   "outputs": [],
   "source": [
    "list.remove(0)"
   ]
  },
  {
   "cell_type": "code",
   "execution_count": 90,
   "id": "d8cb271d",
   "metadata": {},
   "outputs": [
    {
     "name": "stdout",
     "output_type": "stream",
     "text": [
      "[1, 2, 3, 4, 5, 6, 7, 8, 9, 10, 11, 12, 13, 14, 15, 16, 17, 18, 19, 20]\n"
     ]
    }
   ],
   "source": [
    "print(list)"
   ]
  },
  {
   "cell_type": "code",
   "execution_count": 95,
   "id": "5c7f9dc1",
   "metadata": {},
   "outputs": [
    {
     "data": {
      "text/plain": [
       "20"
      ]
     },
     "execution_count": 95,
     "metadata": {},
     "output_type": "execute_result"
    }
   ],
   "source": [
    "len(list)"
   ]
  },
  {
   "cell_type": "code",
   "execution_count": 98,
   "id": "eb142a92",
   "metadata": {},
   "outputs": [
    {
     "name": "stdout",
     "output_type": "stream",
     "text": [
      "[1, 2, 3, 4, 5, 6, 7, 8, 9, 10, 11, 12, 13, 14, 15, 16, 17, 18, 19, 20]\n"
     ]
    }
   ],
   "source": [
    "print(list)"
   ]
  },
  {
   "cell_type": "code",
   "execution_count": 102,
   "id": "b4ce992c",
   "metadata": {},
   "outputs": [
    {
     "name": "stdout",
     "output_type": "stream",
     "text": [
      "210\n"
     ]
    }
   ],
   "source": [
    "print(sum)"
   ]
  },
  {
   "cell_type": "code",
   "execution_count": 103,
   "id": "9f6ddc18",
   "metadata": {},
   "outputs": [],
   "source": [
    "mydic = {}"
   ]
  },
  {
   "cell_type": "code",
   "execution_count": 108,
   "id": "185ce95e",
   "metadata": {},
   "outputs": [],
   "source": [
    "weather_dict = {'Sunny' : 'play', 'Rainy' : 'watchTV', 'Cloudy' : 'walk'}"
   ]
  },
  {
   "cell_type": "code",
   "execution_count": 110,
   "id": "1c655f9b",
   "metadata": {},
   "outputs": [
    {
     "data": {
      "text/plain": [
       "{'Sunny': 'play', 'Rainy': 'watchTV', 'Cloudy': 'walk'}"
      ]
     },
     "execution_count": 110,
     "metadata": {},
     "output_type": "execute_result"
    }
   ],
   "source": [
    "weather_dict"
   ]
  },
  {
   "cell_type": "code",
   "execution_count": 112,
   "id": "99579ee8",
   "metadata": {},
   "outputs": [],
   "source": [
    "weather_dict.update(mydic)"
   ]
  },
  {
   "cell_type": "code",
   "execution_count": 114,
   "id": "9f6df245",
   "metadata": {},
   "outputs": [],
   "source": [
    "weather_dict.update({'Snowy':\"Ski\"})"
   ]
  },
  {
   "cell_type": "code",
   "execution_count": 115,
   "id": "58c7a5d2",
   "metadata": {},
   "outputs": [
    {
     "data": {
      "text/plain": [
       "{'Sunny': 'play', 'Rainy': 'watchTV', 'Cloudy': 'walk', 'Snowy': 'Ski'}"
      ]
     },
     "execution_count": 115,
     "metadata": {},
     "output_type": "execute_result"
    }
   ],
   "source": [
    "weather_dict"
   ]
  },
  {
   "cell_type": "code",
   "execution_count": null,
   "id": "07d74d2b",
   "metadata": {},
   "outputs": [],
   "source": []
  }
 ],
 "metadata": {
  "kernelspec": {
   "display_name": "Python 3 (ipykernel)",
   "language": "python",
   "name": "python3"
  },
  "language_info": {
   "codemirror_mode": {
    "name": "ipython",
    "version": 3
   },
   "file_extension": ".py",
   "mimetype": "text/x-python",
   "name": "python",
   "nbconvert_exporter": "python",
   "pygments_lexer": "ipython3",
   "version": "3.9.13"
  }
 },
 "nbformat": 4,
 "nbformat_minor": 5
}
